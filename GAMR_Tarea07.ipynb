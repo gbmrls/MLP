{
 "cells": [
  {
   "cell_type": "markdown",
   "metadata": {},
   "source": [
    "# Tarea 7: Aplicación de perceptrón multicapa\n",
    "*Gabriel Alejandro Morales Ruiz*\n",
    "\n",
    "## Enunciado del problema\n",
    "En la tabla adjunta se muestran los datos de 1000 clientes que solicitaron créditos a un banco dado. La última columna muestra la información de los clientes que cayeron en mora en algún momento del período del crédito. El monto máximo de crédito que puede asignarse son $300,000 y la antigüedad laboral máxima que se toma en cuenta para asignar el crédito es de 15 años (es decir, antigüedades mayores ya no generan más posibilidad de ser aprobado).\n",
    "\n",
    "Se busca una relación entre la información presentada (que se obtiene al contratar el crédito) y la posibilidad de que el cliente caiga en mora en algún momento del plazo.\n",
    "\n",
    "Entrene un perceptrón multicapa para encontrar una relación tomando como entradas el monto solicitado (normalizado), la carga que implica al salario el pago de la mensualidad y la antigüedad laboral al contratar (normalizada).\n",
    "\n",
    "Utilice 70-30 de relación entrenamiento-prueba y calcule el accuracy.\n",
    "\n",
    "El número de neuronas ocultas es a su criterio."
   ]
  },
  {
   "cell_type": "code",
   "execution_count": 1,
   "metadata": {},
   "outputs": [],
   "source": [
    "import numpy as np\n",
    "import pandas as pd\n",
    "import matplotlib.pyplot as plt\n",
    "\n",
    "# Código para entrenar redes\n",
    "def f(x, alpha) :\n",
    "    return 1 / (1 + np.exp(-alpha*x))\n",
    "\n",
    "def n_significant_figures(num, n) :\n",
    "    return float(format(num, '.'+str(n)+'g'))\n",
    "\n",
    "def train_NN(x, d, alpha, L = None) :\n",
    "    Q = np.size(x, axis=0)\n",
    "    N = np.size(x, axis=1)\n",
    "    M = np.size(d, axis=1)\n",
    "    if L == None : L = N + M\n",
    "    w_h = np.random.uniform(-1, 1, (L, N))\n",
    "    w_o = np.random.uniform(-1, 1, (M, L))\n",
    "    \n",
    "    error = np.Inf\n",
    "    previous_error = 0\n",
    "    vf = np.vectorize(f)\n",
    "    \n",
    "    while(error != previous_error) :\n",
    "        for j in np.arange(Q) :\n",
    "            net_h = w_h @ x[j].T\n",
    "            y_h = vf(net_h, alpha)            \n",
    "            net_o = w_o @ y_h\n",
    "            y = vf(net_o, alpha)\n",
    "    \n",
    "            delta_o = np.multiply((d[j].T - y), np.multiply(y, (1-y)))\n",
    "            delta_h = np.multiply((delta_o.T @ w_o).T, np.multiply(y_h, 1-y_h))\n",
    "            w_h = w_h + alpha*delta_h @ x[j]\n",
    "            w_o = w_o + alpha*delta_o @ (y_h.T) \n",
    "        \n",
    "        previous_error = error\n",
    "        error = n_significant_figures(np.linalg.norm(delta_o), 5)\n",
    "    return w_h, w_o, error\n",
    "\n",
    "def predict(inputs, w_h, w_o, alpha) :\n",
    "    vf = np.vectorize(f)\n",
    "    \n",
    "    net_h = w_h @ inputs.T\n",
    "    y_h = vf(net_h, alpha)            \n",
    "    net_o = w_o @ y_h\n",
    "    y = vf(net_o, alpha)\n",
    "\n",
    "    return y"
   ]
  },
  {
   "cell_type": "code",
   "execution_count": 2,
   "metadata": {},
   "outputs": [
    {
     "name": "stdout",
     "output_type": "stream",
     "text": [
      "        Monto     Carga  Antigüedad laboral (meses)  Mora\n",
      "0    0.997333  0.185128                    0.322222     1\n",
      "1    0.937000  0.083111                    0.827778     0\n",
      "2    0.896000  0.270089                    0.744444     0\n",
      "3    0.855333  0.178150                    0.427778     0\n",
      "4    0.855000  0.027296                    0.027778     1\n",
      "..        ...       ...                         ...   ...\n",
      "995  0.062333  0.165289                    0.833333     0\n",
      "996  0.055333  0.114986                    0.138889     1\n",
      "997  0.054667  0.154361                    0.594444     0\n",
      "998  0.048667  0.219692                    0.333333     0\n",
      "999  0.045000  0.305333                    0.383333     0\n",
      "\n",
      "[1000 rows x 4 columns]\n"
     ]
    }
   ],
   "source": [
    "# Adecuando los datos\n",
    "data = pd.read_excel(\"PercMultAplicado (1).xlsx\")\n",
    "\n",
    "# Monto máximo del préstamo es 300k\n",
    "data[\"Monto\"] /= 300000\n",
    "\n",
    "# Carga definida como porcentaje del pago sobre el ingreso mensual\n",
    "data[\"Carga\"] = data[\"Mensualidad\"]/data[\"Ingreso mensual\"]\n",
    "\n",
    "# Antigüedad máxima tomada como 15 años (12*15=180)\n",
    "data[data[\"Antigüedad laboral (meses)\"] > 180] = 180\n",
    "data[\"Antigüedad laboral (meses)\"] /= 180\n",
    "\n",
    "# Mapeo de variable de salida a binario\n",
    "data[\"Mora\"] = data[\"Mora\"].map({\"SI\": 1, \"NO\": 0})\n",
    "\n",
    "# Recorte de columnas no usadas\n",
    "X = data[[\"Monto\", \"Carga\", \"Antigüedad laboral (meses)\", \"Mora\"]]\n",
    "print(X)"
   ]
  },
  {
   "cell_type": "code",
   "execution_count": 3,
   "metadata": {},
   "outputs": [],
   "source": [
    "# Revolver muestras\n",
    "X = X.sample(frac=1)\n",
    "d = np.matrix(X.iloc[:, -1]).T\n",
    "X = np.matrix(X.iloc[:, 0:-1])\n",
    "\n",
    "# Porcentaje utilizado para entrenar (el resto se usa para validar)\n",
    "perc = 0.7\n",
    "m = len(d)\n",
    "cutoff = round(m*perc)\n",
    "\n",
    "# Separar\n",
    "X_train = X[0:cutoff, :]\n",
    "d_train = d[0:cutoff, :]\n",
    "\n",
    "X_val = X[cutoff:, :]\n",
    "d_val = d[cutoff:, :]"
   ]
  },
  {
   "cell_type": "code",
   "execution_count": 4,
   "metadata": {},
   "outputs": [],
   "source": [
    "# Revolviendo muestras y separando\n",
    "alpha = 2\n",
    "\n",
    "w_h, w_o, error = train_NN(X_train, d, alpha)"
   ]
  },
  {
   "cell_type": "code",
   "execution_count": 5,
   "metadata": {},
   "outputs": [
    {
     "name": "stdout",
     "output_type": "stream",
     "text": [
      "Not Ok. delta_o = [[0.14237138]]\n",
      "Not Ok. delta_o = [[0.1413435]]\n",
      "Not Ok. delta_o = [[0.1410368]]\n",
      "Not Ok. delta_o = [[0.13701204]]\n",
      "Not Ok. delta_o = [[0.14285038]]\n",
      "Not Ok. delta_o = [[0.12188198]]\n",
      "Not Ok. delta_o = [[0.13697729]]\n",
      "Not Ok. delta_o = [[0.12883415]]\n",
      "Misclassified 8\n",
      "Accuracy: 97.33333333333333%\n"
     ]
    }
   ],
   "source": [
    "vround = np.vectorize(round)\n",
    "errors = 0\n",
    "for i in range(len(d_val)) :\n",
    "    result = predict(X_val[i], w_h, w_o, alpha)\n",
    "    delta_o = np.multiply((d_val[i].T - result), np.multiply(result, (1-result)))\n",
    "    result = vround(result)\n",
    "    if result != d_val[i] :\n",
    "        errors += 1\n",
    "        print(\"Not Ok. delta_o = \" + str(delta_o))\n",
    "print(\"Misclassified \" + str(errors))\n",
    "accuracy = 100 - 100*(errors)/(m - cutoff)\n",
    "print(\"Accuracy: \" + str(accuracy) + \"%\")"
   ]
  }
 ],
 "metadata": {
  "kernelspec": {
   "display_name": "Python 3",
   "language": "python",
   "name": "python3"
  },
  "language_info": {
   "codemirror_mode": {
    "name": "ipython",
    "version": 3
   },
   "file_extension": ".py",
   "mimetype": "text/x-python",
   "name": "python",
   "nbconvert_exporter": "python",
   "pygments_lexer": "ipython3",
   "version": "3.8.5"
  }
 },
 "nbformat": 4,
 "nbformat_minor": 4
}
